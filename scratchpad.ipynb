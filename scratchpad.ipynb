{
 "cells": [
  {
   "cell_type": "code",
   "execution_count": 1,
   "metadata": {},
   "outputs": [],
   "source": [
    "import pandas as pd\n",
    "import torch\n",
    "import torch.nn as nn\n",
    "import torch.optim as optim\n",
    "import numpy as np\n",
    "import os\n",
    "\n",
    "from sklearn.model_selection import train_test_split\n",
    "from sklearn.preprocessing import StandardScaler, LabelEncoder\n",
    "\n",
    "df = pd.read_csv(\"data/divorce_data.csv\", sep=\";\")\n",
    "df = pd.concat([df.iloc[:, 0:20], df.iloc[:, -1]], axis=1) \n",
    "\n",
    "X = df.drop(\"Divorce\", axis=1).to_numpy()\n",
    "y = df[\"Divorce\"].to_numpy()\n",
    "\n",
    "X = StandardScaler().fit_transform(X)\n",
    "\n",
    "new_y = []\n",
    "for i in y:\n",
    "    if i == 0:\n",
    "        new_y.append([1, 0])\n",
    "    else:\n",
    "        new_y.append([0, 1])\n",
    "\n",
    "X_train, X_test, y_train, y_test = train_test_split(X, new_y, test_size=0.2, random_state=42)\n",
    "\n",
    "X_train_tensor = torch.Tensor(X_train)\n",
    "X_test_tensor = torch.Tensor(X_test)\n",
    "\n",
    "y_train_tensor = torch.Tensor(y_train)\n",
    "y_test_tensor = torch.Tensor(y_test)"
   ]
  },
  {
   "cell_type": "code",
   "execution_count": 2,
   "metadata": {},
   "outputs": [],
   "source": [
    "NUM_EPOCHS = 1000\n",
    "LEARNING_RATE = 0.001\n",
    "HIDDEN_SIZE = 100\n",
    "HIDDEN_COUNT = 2\n",
    "NUM_CLASSES = 2"
   ]
  },
  {
   "cell_type": "code",
   "execution_count": 3,
   "metadata": {},
   "outputs": [],
   "source": [
    "class Net(nn.Module):\n",
    "    def __init__(self, input_size, hidden_size, hidden_count, num_classes):\n",
    "        super().__init__()\n",
    "\n",
    "        self.input_size = input_size\n",
    "        self.hidden_size = hidden_size\n",
    "        self.hidden_count = hidden_count\n",
    "        self.num_classes = num_classes\n",
    "\n",
    "        self.stack = nn.Sequential()\n",
    "        self.stack.add_module(\"fcfirst\", nn.Linear(input_size, hidden_size))\n",
    "        self.stack.add_module(f\"relufirst\", nn.ReLU())\n",
    "\n",
    "\n",
    "        for i in range(hidden_count):\n",
    "            self.stack.add_module(f\"fc{i}\", nn.Linear(hidden_size, hidden_size))\n",
    "            self.stack.add_module(f\"relu{i}\", nn.ReLU())\n",
    "\n",
    "        self.stack.add_module(\"fclast\", nn.Linear(hidden_size, num_classes))  \n",
    "        self.stack.add_module(\"last\", nn.Softmax(dim=1))\n",
    "    \n",
    "    def forward(self, x):\n",
    "        out = self.stack(x)\n",
    "        return out\n",
    "    \n",
    "    def shape(self):\n",
    "        return self.input_size, self.hidden_size, self.hidden_count, self.num_classes\n",
    "    \n",
    "    def save(self, file_name=\"model.pth\"):\n",
    "        model_folder_path = \"./models\"\n",
    "        if not os.path.exists(model_folder_path):\n",
    "            os.makedirs(model_folder_path)\n",
    "\n",
    "        file_name = os.path.join(model_folder_path, file_name)\n",
    "        torch.save(self.state_dict(), file_name)"
   ]
  },
  {
   "cell_type": "code",
   "execution_count": 4,
   "metadata": {},
   "outputs": [
    {
     "data": {
      "image/png": "[encoded data removed]",
      "text/plain": [
       "<Figure size 640x480 with 1 Axes>"
      ]
     },
     "metadata": {},
     "output_type": "display_data"
    }
   ],
   "source": [
    "from IPython.display import clear_output\n",
    "import matplotlib.pyplot as plt\n",
    "\n",
    "criterion = nn.CrossEntropyLoss()\n",
    "net = Net(X.shape[1], HIDDEN_SIZE, HIDDEN_COUNT, NUM_CLASSES)\n",
    "optimizer = optim.Adam(net.parameters(), LEARNING_RATE)\n",
    "\n",
    "net.train()\n",
    "losses = []\n",
    "\n",
    "for epoch in range(NUM_EPOCHS):\n",
    "    net.zero_grad()\n",
    "    y_pred = net(X_train_tensor)\n",
    "    loss = criterion(y_pred, y_train_tensor)\n",
    "\n",
    "    loss.backward()\n",
    "    optimizer.step()\n",
    "    losses.append(loss.item())\n",
    "\n",
    "clear_output(wait=True)\n",
    "plt.plot(losses)\n",
    "plt.show()"
   ]
  },
  {
   "cell_type": "code",
   "execution_count": 44,
   "metadata": {},
   "outputs": [
    {
     "name": "stdout",
     "output_type": "stream",
     "text": [
      "tensor([1.0000e+00, 2.0364e-11])\n",
      "Test Accuracy: 97.06%\n"
     ]
    }
   ],
   "source": [
    "net.eval()\n",
    "with torch.no_grad():\n",
    "    outputs = net(X_test_tensor)\n",
    "\n",
    "    predicted = torch.argmax(outputs, dim=1)\n",
    "    check = y_test_tensor.argmax(dim=1)\n",
    "\n",
    "    accuracy = (predicted == check).sum().item() / len(y_test)\n",
    "    print(f'Test Accuracy: {accuracy * 100:.2f}%')"
   ]
  },
  {
   "cell_type": "code",
   "execution_count": 116,
   "metadata": {},
   "outputs": [
    {
     "name": "stdout",
     "output_type": "stream",
     "text": [
      "tensor([[0.5949, 0.4051]])\n",
      "0\n"
     ]
    }
   ],
   "source": [
    "inputs = np.random.uniform(0, .1, 20)\n",
    "inputs = torch.Tensor([inputs])\n",
    "\n",
    "net.eval()\n",
    "with torch.no_grad():\n",
    "    outputs = net(inputs)\n",
    "    print(outputs)\n",
    "\n",
    "    predicted = torch.argmax(outputs, dim=1)\n",
    "    print(predicted.item())"
   ]
  },
  {
   "cell_type": "code",
   "execution_count": 106,
   "metadata": {},
   "outputs": [],
   "source": [
    "net.save()"
   ]
  }
 ],
 "metadata": {
  "kernelspec": {
   "display_name": "HCD",
   "language": "python",
   "name": "python3"
  },
  "language_info": {
   "codemirror_mode": {
    "name": "ipython",
    "version": 3
   },
   "file_extension": ".py",
   "mimetype": "text/x-python",
   "name": "python",
   "nbconvert_exporter": "python",
   "pygments_lexer": "ipython3",
   "version": "3.10.13"
  },
  "orig_nbformat": 4
 },
 "nbformat": 4,
 "nbformat_minor": 2
}
